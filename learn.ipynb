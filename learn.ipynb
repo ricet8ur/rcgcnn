{
 "cells": [
  {
   "cell_type": "markdown",
   "metadata": {},
   "source": [
    "### Study initial dataset"
   ]
  },
  {
   "cell_type": "code",
   "execution_count": 1,
   "metadata": {},
   "outputs": [
    {
     "name": "stderr",
     "output_type": "stream",
     "text": [
      "Exception ignored in: <bound method IPythonKernel._clean_thread_parent_frames of <ipykernel.ipkernel.IPythonKernel object at 0x7fcd8e206610>>\n",
      "Traceback (most recent call last):\n",
      "  File \"/home/nodoteve/apps/pythom/miniconda/envs/cgcnn/lib/python3.11/site-packages/ipykernel/ipkernel.py\", line 770, in _clean_thread_parent_frames\n",
      "    def _clean_thread_parent_frames(\n",
      "\n",
      "KeyboardInterrupt: \n"
     ]
    }
   ],
   "source": [
    "import os\n",
    "from pathlib import Path\n",
    "from pymatgen.io.cif import CifWriter\n",
    "from mp_api.client import MPRester\n",
    "import pandas as pd\n",
    "import numpy as np\n",
    "from matplotlib_venn import venn2\n",
    "\n",
    "# conda env config vars set MP_API_KEY=your_key\n",
    "api_key = os.environ.get(\"MP_API_KEY\")"
   ]
  },
  {
   "cell_type": "code",
   "execution_count": 2,
   "metadata": {},
   "outputs": [
    {
     "name": "stdout",
     "output_type": "stream",
     "text": [
      "46744\n"
     ]
    }
   ],
   "source": [
    "# read ids\n",
    "ids = pd.read_csv(\"./data/material-data/mp-ids-46744.csv\")\n",
    "ids = [list(ids)[0]] + list(ids.iloc[:, 0])\n",
    "print(len(ids))"
   ]
  },
  {
   "cell_type": "code",
   "execution_count": 3,
   "metadata": {},
   "outputs": [],
   "source": [
    "# my venn diagram for two sets\n",
    "def venn(**kvarg):\n",
    "    subsets = []\n",
    "    set_labels = []\n",
    "    for k, v in kvarg.items():\n",
    "        subsets.append(set(v))\n",
    "        set_labels.append(k)\n",
    "    venn2(subsets=subsets, set_labels=set_labels)\n",
    "\n",
    "\n",
    "# get duplicates set of duplicates\n",
    "def get_duplicates_list(a: list):\n",
    "    h = dict()\n",
    "    for x in a:\n",
    "        h.setdefault(x, 0)\n",
    "        h[x] += 1\n",
    "    repeated = list()\n",
    "    for k, v in h.items():\n",
    "        if v > 1:\n",
    "            repeated += [k for i in range(1, v)]\n",
    "    return repeated\n",
    "\n",
    "\n",
    "def get_duplicates_set(a: list):\n",
    "    return set(get_duplicates_list(a))"
   ]
  },
  {
   "cell_type": "code",
   "execution_count": 4,
   "metadata": {},
   "outputs": [],
   "source": [
    "# with MPRester(api_key) as mpr:\n",
    "#     naive_docs = mpr.materials.search(material_ids=ids, fields=['material_id'])\n",
    "# ValueError: List of material/molecule IDs provided is too long. Consider removing the ID filter to automatically pull data for all IDs and filter locally.\n",
    "# fix via chunk loading with const:\n",
    "# 10000\n",
    "\n",
    "from emmet.core.vasp.material import MaterialsDoc\n",
    "\n",
    "\n",
    "def chunked_load_ids(kind_of_ids: str, **kwargs) -> list[MaterialsDoc]:\n",
    "    \"\"\"kwargs[kind_of_ids] is divided into chunks\"\"\"\n",
    "    if kind_of_ids not in kwargs:\n",
    "        return []\n",
    "    chunk_size = 10000\n",
    "    docs = []\n",
    "    with MPRester(api_key) as mpr:\n",
    "        ids = kwargs[kind_of_ids]\n",
    "        kwargs.pop(kind_of_ids)\n",
    "        for k in range(0, len(ids), chunk_size):\n",
    "            chunk = [\n",
    "                doc\n",
    "                for doc in mpr.materials.search(\n",
    "                    **dict([(kind_of_ids, ids[k : k + chunk_size])]), **kwargs\n",
    "                )\n",
    "            ]\n",
    "            docs += chunk\n",
    "    return docs"
   ]
  },
  {
   "cell_type": "markdown",
   "metadata": {},
   "source": [
    "#### Naive approach"
   ]
  },
  {
   "cell_type": "code",
   "execution_count": 15,
   "metadata": {},
   "outputs": [
    {
     "ename": "NameError",
     "evalue": "name 'ids' is not defined",
     "output_type": "error",
     "traceback": [
      "\u001b[0;31m---------------------------------------------------------------------------\u001b[0m",
      "\u001b[0;31mNameError\u001b[0m                                 Traceback (most recent call last)",
      "Cell \u001b[0;32mIn[15], line 1\u001b[0m\n\u001b[0;32m----> 1\u001b[0m docs_naive \u001b[38;5;241m=\u001b[39m chunked_load_ids(\u001b[38;5;124m\"\u001b[39m\u001b[38;5;124mmaterial_ids\u001b[39m\u001b[38;5;124m\"\u001b[39m, material_ids\u001b[38;5;241m=\u001b[39m\u001b[43mids\u001b[49m, fields\u001b[38;5;241m=\u001b[39m[\u001b[38;5;124m\"\u001b[39m\u001b[38;5;124mmaterial_id\u001b[39m\u001b[38;5;124m\"\u001b[39m])\n\u001b[1;32m      2\u001b[0m depr_docs_naive \u001b[38;5;241m=\u001b[39m chunked_load_ids(\n\u001b[1;32m      3\u001b[0m     \u001b[38;5;124m\"\u001b[39m\u001b[38;5;124mmaterial_ids\u001b[39m\u001b[38;5;124m\"\u001b[39m, material_ids\u001b[38;5;241m=\u001b[39mids, fields\u001b[38;5;241m=\u001b[39m[\u001b[38;5;124m\"\u001b[39m\u001b[38;5;124mmaterial_id\u001b[39m\u001b[38;5;124m\"\u001b[39m], deprecated\u001b[38;5;241m=\u001b[39m\u001b[38;5;28;01mTrue\u001b[39;00m\n\u001b[1;32m      4\u001b[0m )\n",
      "\u001b[0;31mNameError\u001b[0m: name 'ids' is not defined"
     ]
    }
   ],
   "source": [
    "docs_naive = chunked_load_ids(\"material_ids\", material_ids=ids, fields=[\"material_id\"])\n",
    "depr_docs_naive = chunked_load_ids(\n",
    "    \"material_ids\", material_ids=ids, fields=[\"material_id\"], deprecated=True\n",
    ")"
   ]
  },
  {
   "cell_type": "code",
   "execution_count": null,
   "metadata": {},
   "outputs": [],
   "source": [
    "material_ids_naive = [str(doc.material_id) for doc in docs_naive]\n",
    "material_ids_duplicates_naive = get_duplicates_set(material_ids_naive)\n",
    "\n",
    "depr_material_ids_naive = [str(doc.material_id) for doc in depr_docs_naive]\n",
    "depr_material_ids_duplicates_naive = get_duplicates_set(depr_material_ids_naive)"
   ]
  },
  {
   "cell_type": "code",
   "execution_count": null,
   "metadata": {},
   "outputs": [
    {
     "data": {
      "image/png": "[encoded data removed]",
      "text/plain": [
       "<Figure size 640x480 with 1 Axes>"
      ]
     },
     "metadata": {},
     "output_type": "display_data"
    }
   ],
   "source": [
    "venn(\n",
    "    material_ids_naive=material_ids_naive,\n",
    "    depr_material_ids_naive=depr_material_ids_naive,\n",
    ")"
   ]
  },
  {
   "cell_type": "code",
   "execution_count": null,
   "metadata": {},
   "outputs": [
    {
     "data": {
      "image/png": "[encoded data removed]",
      "text/plain": [
       "<Figure size 640x480 with 1 Axes>"
      ]
     },
     "metadata": {},
     "output_type": "display_data"
    }
   ],
   "source": [
    "venn(\n",
    "    material_ids_naive=material_ids_naive,\n",
    "    material_ids_duplicates_naive=material_ids_duplicates_naive,\n",
    ")"
   ]
  },
  {
   "cell_type": "code",
   "execution_count": null,
   "metadata": {},
   "outputs": [
    {
     "data": {
      "image/png": "[encoded data removed]",
      "text/plain": [
       "<Figure size 640x480 with 1 Axes>"
      ]
     },
     "metadata": {},
     "output_type": "display_data"
    }
   ],
   "source": [
    "venn(\n",
    "    depr_material_ids_naive=depr_material_ids_naive,\n",
    "    depr_material_ids_duplicates_naive=depr_material_ids_duplicates_naive,\n",
    ")"
   ]
  },
  {
   "cell_type": "markdown",
   "metadata": {},
   "source": [
    "#### Different approach"
   ]
  },
  {
   "cell_type": "markdown",
   "metadata": {},
   "source": [
    "Taking into consideration that listed ids are task ids."
   ]
  },
  {
   "cell_type": "code",
   "execution_count": null,
   "metadata": {},
   "outputs": [
    {
     "name": "stderr",
     "output_type": "stream",
     "text": [
      "/home/nodoteve/apps/pythom/miniconda/envs/cgcnn2/lib/python3.11/site-packages/mp_api/client/mprester.py:227: UserWarning: mpcontribs-client not installed. Install the package to query MPContribs data, or construct pourbaix diagrams: 'pip install mpcontribs-client'\n",
      "  warnings.warn(\n"
     ]
    },
    {
     "data": {
      "application/vnd.jupyter.widget-view+json": {
       "model_id": "d7dce5e4413a432e825b01ecf5d4d032",
       "version_major": 2,
       "version_minor": 0
      },
      "text/plain": [
       "Retrieving MaterialsDoc documents:   0%|          | 0/9872 [00:00<?, ?it/s]"
      ]
     },
     "metadata": {},
     "output_type": "display_data"
    },
    {
     "data": {
      "application/vnd.jupyter.widget-view+json": {
       "model_id": "4ddb062735b74975a4249add3e3bcb3f",
       "version_major": 2,
       "version_minor": 0
      },
      "text/plain": [
       "Retrieving MaterialsDoc documents:   0%|          | 0/9868 [00:00<?, ?it/s]"
      ]
     },
     "metadata": {},
     "output_type": "display_data"
    },
    {
     "data": {
      "application/vnd.jupyter.widget-view+json": {
       "model_id": "439b3a34fa064a3a9a1a73617b1f3331",
       "version_major": 2,
       "version_minor": 0
      },
      "text/plain": [
       "Retrieving MaterialsDoc documents:   0%|          | 0/9870 [00:00<?, ?it/s]"
      ]
     },
     "metadata": {},
     "output_type": "display_data"
    },
    {
     "data": {
      "application/vnd.jupyter.widget-view+json": {
       "model_id": "e23e51fcdcb640989f43643061164df1",
       "version_major": 2,
       "version_minor": 0
      },
      "text/plain": [
       "Retrieving MaterialsDoc documents:   0%|          | 0/9885 [00:00<?, ?it/s]"
      ]
     },
     "metadata": {},
     "output_type": "display_data"
    },
    {
     "data": {
      "application/vnd.jupyter.widget-view+json": {
       "model_id": "46823baf88514abcbed7e5f21997112c",
       "version_major": 2,
       "version_minor": 0
      },
      "text/plain": [
       "Retrieving MaterialsDoc documents:   0%|          | 0/6668 [00:00<?, ?it/s]"
      ]
     },
     "metadata": {},
     "output_type": "display_data"
    },
    {
     "data": {
      "application/vnd.jupyter.widget-view+json": {
       "model_id": "f9384195cedf41a799ec1e9a23d36701",
       "version_major": 2,
       "version_minor": 0
      },
      "text/plain": [
       "Retrieving MaterialsDoc documents:   0%|          | 0/128 [00:00<?, ?it/s]"
      ]
     },
     "metadata": {},
     "output_type": "display_data"
    },
    {
     "data": {
      "application/vnd.jupyter.widget-view+json": {
       "model_id": "5376ea7106024cf2b2691abe6dd2b359",
       "version_major": 2,
       "version_minor": 0
      },
      "text/plain": [
       "Retrieving MaterialsDoc documents:   0%|          | 0/132 [00:00<?, ?it/s]"
      ]
     },
     "metadata": {},
     "output_type": "display_data"
    },
    {
     "data": {
      "application/vnd.jupyter.widget-view+json": {
       "model_id": "4f91195e6c4f49a6ad276587f82ba198",
       "version_major": 2,
       "version_minor": 0
      },
      "text/plain": [
       "Retrieving MaterialsDoc documents:   0%|          | 0/130 [00:00<?, ?it/s]"
      ]
     },
     "metadata": {},
     "output_type": "display_data"
    },
    {
     "data": {
      "application/vnd.jupyter.widget-view+json": {
       "model_id": "c249b2e3bcb748698cea59d732f71f82",
       "version_major": 2,
       "version_minor": 0
      },
      "text/plain": [
       "Retrieving MaterialsDoc documents:   0%|          | 0/115 [00:00<?, ?it/s]"
      ]
     },
     "metadata": {},
     "output_type": "display_data"
    },
    {
     "data": {
      "application/vnd.jupyter.widget-view+json": {
       "model_id": "ed156e48cead46b9b1a12ad99316703f",
       "version_major": 2,
       "version_minor": 0
      },
      "text/plain": [
       "Retrieving MaterialsDoc documents:   0%|          | 0/76 [00:00<?, ?it/s]"
      ]
     },
     "metadata": {},
     "output_type": "display_data"
    }
   ],
   "source": [
    "docs = chunked_load_ids(\"task_ids\", task_ids=ids, fields=[\"material_id\"])\n",
    "depr_docs = chunked_load_ids(\n",
    "    \"task_ids\", task_ids=ids, fields=[\"material_id\"], deprecated=True\n",
    ")"
   ]
  },
  {
   "cell_type": "code",
   "execution_count": null,
   "metadata": {},
   "outputs": [],
   "source": [
    "material_ids = [str(d.material_id) for d in docs]\n",
    "material_ids_duplicates = get_duplicates_set(material_ids)\n",
    "\n",
    "depr_material_ids = [str(d.material_id) for d in depr_docs]\n",
    "depr_material_ids_duplicates = get_duplicates_set(depr_material_ids)"
   ]
  },
  {
   "cell_type": "code",
   "execution_count": null,
   "metadata": {},
   "outputs": [
    {
     "data": {
      "image/png": "[encoded data removed]",
      "text/plain": [
       "<Figure size 640x480 with 1 Axes>"
      ]
     },
     "metadata": {},
     "output_type": "display_data"
    }
   ],
   "source": [
    "venn(material_ids=material_ids, depr_material_ids=depr_material_ids)"
   ]
  },
  {
   "cell_type": "code",
   "execution_count": null,
   "metadata": {},
   "outputs": [
    {
     "data": {
      "image/png": "[encoded data removed]",
      "text/plain": [
       "<Figure size 640x480 with 1 Axes>"
      ]
     },
     "metadata": {},
     "output_type": "display_data"
    }
   ],
   "source": [
    "venn(material_ids=material_ids, material_ids_duplicates=material_ids_duplicates)"
   ]
  },
  {
   "cell_type": "code",
   "execution_count": null,
   "metadata": {},
   "outputs": [
    {
     "data": {
      "image/png": "[encoded data removed]",
      "text/plain": [
       "<Figure size 640x480 with 1 Axes>"
      ]
     },
     "metadata": {},
     "output_type": "display_data"
    }
   ],
   "source": [
    "venn(\n",
    "    depr_material_ids=depr_material_ids,\n",
    "    depr_material_ids_duplicates=depr_material_ids_duplicates,\n",
    ")"
   ]
  },
  {
   "cell_type": "markdown",
   "metadata": {},
   "source": [
    "Knowing the complete set of material_ids it is possible to create a map between task_ids and material_ids"
   ]
  },
  {
   "cell_type": "code",
   "execution_count": null,
   "metadata": {},
   "outputs": [
    {
     "data": {
      "application/vnd.jupyter.widget-view+json": {
       "model_id": "ad2fc251bfa0441aaf173d4e7a19bc04",
       "version_major": 2,
       "version_minor": 0
      },
      "text/plain": [
       "Retrieving MaterialsDoc documents:   0%|          | 0/9880 [00:00<?, ?it/s]"
      ]
     },
     "metadata": {},
     "output_type": "display_data"
    },
    {
     "data": {
      "application/vnd.jupyter.widget-view+json": {
       "model_id": "46b9ba29137a4f4b9100fc19114ceead",
       "version_major": 2,
       "version_minor": 0
      },
      "text/plain": [
       "Retrieving MaterialsDoc documents:   0%|          | 0/9881 [00:00<?, ?it/s]"
      ]
     },
     "metadata": {},
     "output_type": "display_data"
    },
    {
     "data": {
      "application/vnd.jupyter.widget-view+json": {
       "model_id": "aa1e138833d84a2d96315d30c6271bcc",
       "version_major": 2,
       "version_minor": 0
      },
      "text/plain": [
       "Retrieving MaterialsDoc documents:   0%|          | 0/9868 [00:00<?, ?it/s]"
      ]
     },
     "metadata": {},
     "output_type": "display_data"
    },
    {
     "data": {
      "application/vnd.jupyter.widget-view+json": {
       "model_id": "c160a880fdff48bba8e85edf52427117",
       "version_major": 2,
       "version_minor": 0
      },
      "text/plain": [
       "Retrieving MaterialsDoc documents:   0%|          | 0/9882 [00:00<?, ?it/s]"
      ]
     },
     "metadata": {},
     "output_type": "display_data"
    },
    {
     "data": {
      "application/vnd.jupyter.widget-view+json": {
       "model_id": "450be8521ce345429ed07dfc90290540",
       "version_major": 2,
       "version_minor": 0
      },
      "text/plain": [
       "Retrieving MaterialsDoc documents:   0%|          | 0/6540 [00:00<?, ?it/s]"
      ]
     },
     "metadata": {},
     "output_type": "display_data"
    },
    {
     "data": {
      "application/vnd.jupyter.widget-view+json": {
       "model_id": "191024eb030b4ff3a2fdbbd22adaa711",
       "version_major": 2,
       "version_minor": 0
      },
      "text/plain": [
       "Retrieving MaterialsDoc documents:   0%|          | 0/120 [00:00<?, ?it/s]"
      ]
     },
     "metadata": {},
     "output_type": "display_data"
    },
    {
     "data": {
      "application/vnd.jupyter.widget-view+json": {
       "model_id": "560788ec5c3248e4a90ac3ead66176ca",
       "version_major": 2,
       "version_minor": 0
      },
      "text/plain": [
       "Retrieving MaterialsDoc documents:   0%|          | 0/119 [00:00<?, ?it/s]"
      ]
     },
     "metadata": {},
     "output_type": "display_data"
    },
    {
     "data": {
      "application/vnd.jupyter.widget-view+json": {
       "model_id": "cd881bbd87ae42beb70a1376a655118b",
       "version_major": 2,
       "version_minor": 0
      },
      "text/plain": [
       "Retrieving MaterialsDoc documents:   0%|          | 0/132 [00:00<?, ?it/s]"
      ]
     },
     "metadata": {},
     "output_type": "display_data"
    },
    {
     "data": {
      "application/vnd.jupyter.widget-view+json": {
       "model_id": "accb6267d6e143b2854bf0edd7550638",
       "version_major": 2,
       "version_minor": 0
      },
      "text/plain": [
       "Retrieving MaterialsDoc documents:   0%|          | 0/118 [00:00<?, ?it/s]"
      ]
     },
     "metadata": {},
     "output_type": "display_data"
    },
    {
     "data": {
      "application/vnd.jupyter.widget-view+json": {
       "model_id": "7f73bb4930d94b4fb5c1a3d6b2e5456b",
       "version_major": 2,
       "version_minor": 0
      },
      "text/plain": [
       "Retrieving MaterialsDoc documents:   0%|          | 0/92 [00:00<?, ?it/s]"
      ]
     },
     "metadata": {},
     "output_type": "display_data"
    }
   ],
   "source": [
    "all_mids = list(set(material_ids).union(set(depr_material_ids)))\n",
    "docs_for_t2m = chunked_load_ids(\n",
    "    \"material_ids\", material_ids=all_mids, fields=[\"material_id\", \"task_ids\"]\n",
    ")\n",
    "depr_docs_for_t2m = chunked_load_ids(\n",
    "    \"material_ids\",\n",
    "    material_ids=all_mids,\n",
    "    fields=[\"material_id\", \"task_ids\"],\n",
    "    deprecated=True,\n",
    ")"
   ]
  },
  {
   "cell_type": "code",
   "execution_count": null,
   "metadata": {},
   "outputs": [],
   "source": [
    "mids = [str(d.material_id) for d in docs_for_t2m]\n",
    "depr_mids = [str(d.material_id) for d in depr_docs_for_t2m]"
   ]
  },
  {
   "cell_type": "code",
   "execution_count": null,
   "metadata": {},
   "outputs": [
    {
     "data": {
      "image/png": "[encoded data removed]",
      "text/plain": [
       "<Figure size 640x480 with 1 Axes>"
      ]
     },
     "metadata": {},
     "output_type": "display_data"
    }
   ],
   "source": [
    "venn(mids=mids, depr_mids=depr_mids)\n",
    "# No venn intersection => mids are unique"
   ]
  },
  {
   "cell_type": "code",
   "execution_count": null,
   "metadata": {},
   "outputs": [
    {
     "name": "stdout",
     "output_type": "stream",
     "text": [
      "0\n"
     ]
    }
   ],
   "source": [
    "mt_ids = [(str(d.material_id), [str(x) for x in d.task_ids]) for d in docs_for_t2m]\n",
    "depr_mt_ids = [\n",
    "    (str(d.material_id), [str(x) for x in d.task_ids]) for d in depr_docs_for_t2m\n",
    "]\n",
    "\n",
    "# keep only task_ids from (initial) ids.\n",
    "sids = set(ids)\n",
    "redused_mt_ids = [(m, [x for x in t if x in sids]) for m, t in mt_ids]\n",
    "redused_depr_mt_ids = [(m, [x for x in t if x in sids]) for m, t in depr_mt_ids]\n",
    "\n",
    "# flatten\n",
    "all_tids = []\n",
    "for m, t in redused_mt_ids:\n",
    "    all_tids += t\n",
    "for m, t in redused_depr_mt_ids:\n",
    "    all_tids += t\n",
    "print(len(get_duplicates_set(all_tids)))"
   ]
  },
  {
   "cell_type": "markdown",
   "metadata": {},
   "source": [
    "Correspondence between tids and mids strictly obeys the law that there is only one mid for the given tid."
   ]
  },
  {
   "cell_type": "code",
   "execution_count": null,
   "metadata": {},
   "outputs": [],
   "source": [
    "# create map task_id -> material_id\n",
    "t2m = dict()\n",
    "for m, t in mt_ids:\n",
    "    for x in t:\n",
    "        t2m[x] = m\n",
    "for m, t in depr_mt_ids:\n",
    "    for x in t:\n",
    "        t2m[x] = m\n",
    "found = [x for x in ids if x in t2m]\n",
    "not_found = [x for x in ids if x not in t2m]"
   ]
  },
  {
   "cell_type": "code",
   "execution_count": null,
   "metadata": {},
   "outputs": [
    {
     "data": {
      "image/png": "[encoded data removed]",
      "text/plain": [
       "<Figure size 640x480 with 1 Axes>"
      ]
     },
     "metadata": {},
     "output_type": "display_data"
    }
   ],
   "source": [
    "# compare with (initial) ids\n",
    "venn(found=found, not_found=not_found)"
   ]
  },
  {
   "cell_type": "code",
   "execution_count": null,
   "metadata": {},
   "outputs": [],
   "source": [
    "# set theoretical image of ids after t2m\n",
    "img = [t2m[x] for x in ids]"
   ]
  },
  {
   "cell_type": "code",
   "execution_count": null,
   "metadata": {},
   "outputs": [
    {
     "name": "stdout",
     "output_type": "stream",
     "text": [
      "46632 + 112 = 46744\n"
     ]
    },
    {
     "data": {
      "image/png": "[encoded data removed]",
      "text/plain": [
       "<Figure size 640x480 with 1 Axes>"
      ]
     },
     "metadata": {},
     "output_type": "display_data"
    }
   ],
   "source": [
    "print(len(set(img)), \"+\", len(get_duplicates_list(img)), \"=\", len(ids))\n",
    "venn(img=img, ids=ids)\n",
    "# => Actual number of duplicates (data leak) in article implementation could be around the value of get_duplicates_list(img))\n",
    "# or 100 ids out of 46744 (~0.2%)\n",
    "# (~800 and 1.8% in previous version of db)"
   ]
  },
  {
   "cell_type": "markdown",
   "metadata": {},
   "source": [
    "### Dataset creation\n",
    "Creating datasets based on material project ids. Then checking the difference in training results."
   ]
  },
  {
   "cell_type": "markdown",
   "metadata": {},
   "source": [
    "#### Load data"
   ]
  },
  {
   "cell_type": "markdown",
   "metadata": {},
   "source": [
    "##### From Materials Project"
   ]
  },
  {
   "cell_type": "code",
   "execution_count": 5,
   "metadata": {},
   "outputs": [],
   "source": [
    "# dataset saving paths\n",
    "basedir = \"./data/root/data/\"\n",
    "t2m_file = \"./data/root/data/t2m.json\"\n",
    "\n",
    "\n",
    "def save_to_bin(data: dict, output_file):\n",
    "    import ormsgpack\n",
    "\n",
    "    with open(output_file, \"wb\") as f:\n",
    "        f.write(ormsgpack.packb(data, option=ormsgpack.OPT_SERIALIZE_NUMPY))\n",
    "\n",
    "\n",
    "def load_from_bin(file):\n",
    "    with open(file, \"rb\") as f:\n",
    "        import ormsgpack\n",
    "\n",
    "        return ormsgpack.unpackb(f.read())\n",
    "\n",
    "\n",
    "def save_to_json(data: dict, output_file):\n",
    "    import orjson\n",
    "\n",
    "    with open(output_file, \"wb\") as f:\n",
    "        f.write(orjson.dumps(data, option=orjson.OPT_SERIALIZE_NUMPY))\n",
    "\n",
    "\n",
    "def load_from_json(file):\n",
    "    with open(file, \"rb\") as f:\n",
    "        import orjson\n",
    "\n",
    "        return orjson.loads(f.read())"
   ]
  },
  {
   "cell_type": "code",
   "execution_count": 6,
   "metadata": {},
   "outputs": [],
   "source": [
    "def chunked_load_data(kind_of_ids: str, **kwargs) -> list[MaterialsDoc]:\n",
    "    \"\"\"kwargs[kind_of_ids] is divided into chunks\n",
    "    differs from chunked_load_ids():\n",
    "        mpr.materials.search\n",
    "        ->\n",
    "        mpr.materials.summary.search\"\"\"\n",
    "    if kind_of_ids not in kwargs:\n",
    "        return []\n",
    "    chunk_size = 10000\n",
    "    docs = []\n",
    "    with MPRester(api_key) as mpr:\n",
    "        ids = kwargs[kind_of_ids]\n",
    "        kwargs.pop(kind_of_ids)\n",
    "        for k in range(0, len(ids), chunk_size):\n",
    "            chunk = [\n",
    "                doc\n",
    "                for doc in mpr.materials.summary.search(\n",
    "                    **dict([(kind_of_ids, ids[k : k + chunk_size])]), **kwargs\n",
    "                )\n",
    "            ]\n",
    "            docs += chunk\n",
    "    return docs"
   ]
  },
  {
   "cell_type": "code",
   "execution_count": 7,
   "metadata": {},
   "outputs": [],
   "source": [
    "from datetime import date\n",
    "\n",
    "# downloading functionality\n",
    "fields = [\n",
    "    \"energy_per_atom\",\n",
    "    \"formation_energy_per_atom\",\n",
    "    \"band_gap\",\n",
    "    \"efermi\",\n",
    "    \"shear_modulus\",  # \"k_voigt\", \"k_reuss\", \"k_vrh\", see https://docs.materialsproject.org/methodology/materials-methodology/elasticity/\n",
    "    \"bulk_modulus\",  # \"g_voigt\",\"g_reuss\", \"g_vrh\"\n",
    "    \"homogeneous_poisson\",\n",
    "]\n",
    "\n",
    "\n",
    "def download_by_material_ids(mids) -> list[MaterialsDoc]:\n",
    "    docs = chunked_load_data(\n",
    "        \"material_ids\",\n",
    "        material_ids=mids,\n",
    "        fields=fields + [\"structure\", \"material_id\"],\n",
    "    )\n",
    "    depr_docs = chunked_load_data(\n",
    "        \"material_ids\",\n",
    "        material_ids=mids,\n",
    "        fields=fields + [\"structure\", \"material_id\"],\n",
    "        deprecated=True,\n",
    "    )\n",
    "    all_docs = depr_docs + docs\n",
    "    return all_docs\n",
    "\n",
    "\n",
    "def save_docs_as_json(docs: list[MaterialsDoc], dataset_dir: str):\n",
    "    props = dict()\n",
    "    cifs = dict()\n",
    "    for doc in docs:\n",
    "        mid = str(doc.material_id)\n",
    "        # structures\n",
    "        cifs[mid] = doc.structure.as_dict()\n",
    "\n",
    "        # properties\n",
    "        dump = doc.model_dump(include=fields)\n",
    "\n",
    "        # translate shear_modulus and bulk_modulus to k_ and g_ in case they exist\n",
    "        # example:\n",
    "        #   dump[\"shear_modulus\"][\"vrh\"] -> dump[\"k_vrh\"]\n",
    "        modulus_types = [\"voigt\", \"reuss\", \"vrh\"]\n",
    "        key_map = {\"shear_modulus\": \"k_\", \"bulk_modulus\": \"g_\"}\n",
    "        for k, v in key_map.items():\n",
    "            if k in dump:\n",
    "                if dump[k] is not None:\n",
    "                    for t in modulus_types:\n",
    "                        dump[v + t] = dump[k][t]\n",
    "                        dump[k].pop(t)\n",
    "                dump.pop(k)\n",
    "        # training of these properties is performed in log scale\n",
    "        for moduli in [\"k_voigt\", \"k_reuss\", \"k_vrh\", \"g_voigt\", \"g_reuss\", \"g_vrh\"]:\n",
    "            if moduli in dump:\n",
    "                dump[moduli] = np.log(dump[moduli])\n",
    "        props[mid] = dump\n",
    "\n",
    "    try:\n",
    "        os.mkdir(dataset_dir)\n",
    "    except:\n",
    "        pass\n",
    "    save_to_json(cifs, dataset_dir + \"cifs.json\")\n",
    "    save_to_json(props, dataset_dir + \"props.json\")\n",
    "    return dataset_dir"
   ]
  },
  {
   "cell_type": "markdown",
   "metadata": {},
   "source": [
    "Download might take some time"
   ]
  },
  {
   "cell_type": "code",
   "execution_count": 8,
   "metadata": {},
   "outputs": [],
   "source": [
    "# create dataset based on material ids from original paper\n",
    "dataset_original_path = basedir + \"dataset_original_\" + date.today().isoformat() + \"/\"\n",
    "\n",
    "\n",
    "# docs = []\n",
    "def create_original():\n",
    "    img = [t2m[x] for x in ids]\n",
    "    docs = download_by_material_ids(mids=img)\n",
    "    save_docs_as_json(docs, dataset_original_path)\n",
    "    return [str(doc.material_id) for doc in docs]\n",
    "\n",
    "\n",
    "# ~ 7 min"
   ]
  },
  {
   "cell_type": "code",
   "execution_count": 9,
   "metadata": {},
   "outputs": [],
   "source": [
    "# ids1 = create_original()\n",
    "# df1 = pd.DataFrame(load_from_json(dataset_original_path + \"props.json\")).transpose()\n",
    "# print(df1.describe())"
   ]
  },
  {
   "cell_type": "code",
   "execution_count": 10,
   "metadata": {},
   "outputs": [],
   "source": [
    "# create dataset from all materials available at Materials Project currently\n",
    "dataset_full_path = basedir + \"dataset_full_\" + date.today().isoformat() + \"/\"\n",
    "\n",
    "\n",
    "def create_full():\n",
    "    def download_full_mpdb_undeprecated():\n",
    "        with MPRester(api_key) as mpr:\n",
    "            docs = [\n",
    "                d\n",
    "                for d in mpr.materials.summary.search(\n",
    "                    fields=fields + [\"structure\", \"material_id\"],\n",
    "                )\n",
    "            ]\n",
    "            return docs\n",
    "\n",
    "    docs = download_full_mpdb_undeprecated()\n",
    "    save_docs_as_json(docs, dataset_full_path)\n",
    "    return [str(doc.material_id) for doc in docs]\n",
    "\n",
    "\n",
    "# ~ 15 min"
   ]
  },
  {
   "cell_type": "code",
   "execution_count": 11,
   "metadata": {},
   "outputs": [],
   "source": [
    "# ids2 = create_full()"
   ]
  },
  {
   "cell_type": "code",
   "execution_count": 12,
   "metadata": {},
   "outputs": [],
   "source": [
    "# create delta dataset as a set difference of previous two\n",
    "dataset_delta_path = basedir + \"dataset_delta/\"\n",
    "\n",
    "\n",
    "def create_delta(ids1, ids2, dataset_full_path):\n",
    "    ids_delta = set(ids2).difference(set(ids1))\n",
    "    props_full = load_from_json(dataset_full_path + \"props.json\")\n",
    "    props_delta = dict()\n",
    "    for k, v in props_full.items():\n",
    "        if k in ids_delta:\n",
    "            props_delta[k] = v\n",
    "    cifs_full = load_from_json(dataset_full_path + \"cifs.json\")\n",
    "    cifs_delta = dict()\n",
    "    for k, v in cifs_full.items():\n",
    "        if k in ids_delta:\n",
    "            cifs_delta[k] = v\n",
    "    try:\n",
    "        os.mkdir(dataset_delta_path)\n",
    "    except:\n",
    "        pass\n",
    "    save_to_json(cifs_delta, dataset_delta_path + \"cifs.json\")\n",
    "    save_to_json(props_delta, dataset_delta_path + \"props.json\")"
   ]
  },
  {
   "cell_type": "code",
   "execution_count": 13,
   "metadata": {},
   "outputs": [],
   "source": [
    "# some thermodynamic properties of Materials Project significantly changed recently due to migration from GGA/GGA+U to r2SCAN\n",
    "dataset_original_before_r2scan_path = basedir + \"dataset_original_before_r2scan/\"\n",
    "dataset_full_before_r2scan_path = (\n",
    "    basedir + \"dataset_full_before_r2scan/\"\n",
    ")  # does not contain shear/bulk modulus\n",
    "\n",
    "dataset_original_path = basedir + \"dataset_original_2024-04-25/\"\n",
    "dataset_full_path = basedir + \"dataset_full_2024-04-25/\"\n",
    "dataset_delta_path = basedir + \"dataset_delta/\""
   ]
  },
  {
   "cell_type": "code",
   "execution_count": 14,
   "metadata": {},
   "outputs": [],
   "source": [
    "dataset_paths = [\n",
    "    dataset_original_path,\n",
    "    dataset_full_path,\n",
    "    dataset_delta_path,\n",
    "    dataset_original_before_r2scan_path,\n",
    "    dataset_full_before_r2scan_path,\n",
    "]"
   ]
  },
  {
   "cell_type": "markdown",
   "metadata": {},
   "source": [
    "##### From QMOF"
   ]
  },
  {
   "cell_type": "code",
   "execution_count": 15,
   "metadata": {},
   "outputs": [],
   "source": [
    "# expected to have qmof_database.zip archive downloaded from Figshare https://docs.materialsproject.org/apps/explorer-apps/mof-explorer/downloading-the-data\n",
    "qmof_db_path = basedir + \"qmof_db/\""
   ]
  },
  {
   "cell_type": "markdown",
   "metadata": {},
   "source": [
    "##### Compression"
   ]
  },
  {
   "cell_type": "code",
   "execution_count": 16,
   "metadata": {},
   "outputs": [],
   "source": [
    "import zstandard as zstd\n",
    "\n",
    "\n",
    "def compress(from_file, to_file):\n",
    "    with open(from_file, \"rb\") as f:\n",
    "        res = zstd.ZstdCompressor(level=15, threads=-1).compress(f.read())\n",
    "    with open(to_file, \"wb\") as f:\n",
    "        f.write(res)\n",
    "\n",
    "\n",
    "def uncompress(from_file, to_file):\n",
    "    with open(from_file, \"rb\") as f:\n",
    "        res = zstd.decompress(f.read())\n",
    "    with open(to_file, \"wb\") as f:\n",
    "        f.write(res)\n",
    "\n",
    "\n",
    "def compress_inplace(dataset_path):\n",
    "    filenames = os.listdir(dataset_path)\n",
    "    for filename in filenames:\n",
    "        if filename == \"props.json\" or filename == \"cifs.json\":\n",
    "            compress(dataset_path + filename, dataset_path + filename + \".zstd\")\n",
    "\n",
    "\n",
    "def uncompress_inplace(dataset_path):\n",
    "    filenames = os.listdir(dataset_path)\n",
    "    for filename in filenames:\n",
    "        if filename == \"props.json.zstd\" or filename == \"cifs.json.zstd\":\n",
    "            uncompress(\n",
    "                dataset_path + filename, dataset_path + filename.removesuffix(\".zstd\")\n",
    "            )"
   ]
  },
  {
   "cell_type": "code",
   "execution_count": 17,
   "metadata": {},
   "outputs": [],
   "source": [
    "# for dataset_path in dataset_paths:\n",
    "#     print(dataset_path)\n",
    "#     compress_inplace(dataset_path)\n",
    "# < 4 min"
   ]
  },
  {
   "cell_type": "code",
   "execution_count": 18,
   "metadata": {},
   "outputs": [],
   "source": [
    "# for dataset_path in dataset_paths:\n",
    "#     uncompress_inplace(dataset_path)"
   ]
  },
  {
   "cell_type": "code",
   "execution_count": 19,
   "metadata": {},
   "outputs": [],
   "source": [
    "# compress(t2m_file, t2m_file+'.zstd')\n",
    "# save_to_json(t2m, t2m_file)\n",
    "# or\n",
    "# uncompress(t2m_file + \".zstd\", t2m_file)\n",
    "# t2m = load_from_json(t2m_file)"
   ]
  },
  {
   "cell_type": "markdown",
   "metadata": {},
   "source": [
    "#### Training"
   ]
  },
  {
   "cell_type": "code",
   "execution_count": 20,
   "metadata": {},
   "outputs": [],
   "source": [
    "# expected to have t2m file and datasets unpacked at their paths"
   ]
  },
  {
   "cell_type": "code",
   "execution_count": 21,
   "metadata": {},
   "outputs": [],
   "source": [
    "from typing import Callable\n",
    "\n",
    "# optional connect to clearML\n",
    "# %env CLEARML_WEB_HOST=\"https://app.clear.ml\"\n",
    "# %env CLEARML_API_HOST=\"https://api.clear.ml\"\n",
    "# %env CLEARML_FILES_HOST=\"https://files.clear.ml\"\n",
    "# %env CLEARML_API_ACCESS_KEY=\"...\"\n",
    "# %env CLEARML_API_SECRET_KEY=\"...\"\n",
    "# import clearml\n",
    "# clearml.browser_login()\n",
    "is_clearml = True"
   ]
  },
  {
   "cell_type": "code",
   "execution_count": 22,
   "metadata": {},
   "outputs": [],
   "source": [
    "# train configuration\n",
    "fields_csv = {\n",
    "    \"mp-ids-46744.csv\": [\n",
    "        \"energy_per_atom\",\n",
    "        \"formation_energy_per_atom\",\n",
    "        \"efermi\",\n",
    "    ],\n",
    "    \"mp-ids-27430.csv\": [\"band_gap\"],\n",
    "    \"mp-ids-3402.csv\": [\n",
    "        \"k_voigt\",\n",
    "        \"k_reuss\",\n",
    "        \"k_vrh\",\n",
    "        \"g_voigt\",\n",
    "        \"g_reuss\",\n",
    "        \"g_vrh\",\n",
    "        \"homogeneous_poisson\",\n",
    "    ],\n",
    "}\n",
    "\n",
    "fields = [\n",
    "    \"energy_per_atom\",\n",
    "    \"formation_energy_per_atom\",\n",
    "    \"band_gap\",\n",
    "    \"efermi\",\n",
    "    \"k_voigt\",\n",
    "    \"k_reuss\",\n",
    "    \"k_vrh\",\n",
    "    \"g_voigt\",\n",
    "    \"g_reuss\",\n",
    "    \"g_vrh\",\n",
    "    \"homogeneous_poisson\",\n",
    "]\n",
    "\n",
    "dataset_vs_train_fields = [\n",
    "    (dataset_original_before_r2scan_path, fields_csv),\n",
    "    (dataset_original_path, fields_csv),\n",
    "    (dataset_full_before_r2scan_path, fields),\n",
    "    (dataset_full_path, fields),\n",
    "    (dataset_delta_path, fields),\n",
    "    (dataset_original_path, fields),\n",
    "]"
   ]
  },
  {
   "cell_type": "code",
   "execution_count": 23,
   "metadata": {},
   "outputs": [],
   "source": [
    "import pandas as pd\n",
    "\n",
    "\n",
    "def set_property_to_ids(\n",
    "    df: pd.DataFrame, property: str, csv: str = \"./data/root/data/id_prop.csv\"\n",
    "):\n",
    "    df[property].dropna().to_csv(csv, index=True, header=False)\n",
    "\n",
    "\n",
    "\n",
    "\n",
    "def get_df_for_csv(csv: str, full_df: pd.DataFrame):\n",
    "    t2m = load_from_json(t2m_file)\n",
    "    ids = pd.read_csv(\"./data/material-data/\" + csv)\n",
    "    ids = [list(ids)[0]] + list(ids.iloc[:, 0])\n",
    "    df = pd.DataFrame()\n",
    "    idx = full_df.index\n",
    "    ms = [t2m[t] for t in ids if t2m[t] in idx]\n",
    "    df = full_df.loc[ms]\n",
    "    return df"
   ]
  },
  {
   "cell_type": "code",
   "execution_count": 24,
   "metadata": {},
   "outputs": [],
   "source": [
    "# plot general train progress\n",
    "import matplotlib.pyplot as plt\n",
    "\n",
    "ds_prop_mae = dict()\n",
    "\n",
    "\n",
    "def plot_ds_prop_mae():\n",
    "\n",
    "    plt.figure(figsize=(10, 6))\n",
    "    for ds, prop_mae in ds_prop_mae.items():\n",
    "        props = list(prop_mae.keys())\n",
    "        maes = list(prop_mae[k] for k in props)\n",
    "        # line\n",
    "        (c,) = plt.plot(props, maes, alpha=0.3, lw=2)\n",
    "        color = c.get_color()\n",
    "        # point\n",
    "        plt.scatter(props, maes, alpha=0.6, color=color, marker=\"x\", s=25)\n",
    "        # label\n",
    "        plt.plot([], [], alpha=1, color=color, label=ds)\n",
    "    plt.ylabel(\"MAE\")\n",
    "    plt.xticks(rotation=45)\n",
    "    plt.title(\"MAE for different datasets and properties\")\n",
    "    plt.legend()\n",
    "    plt.tight_layout()"
   ]
  },
  {
   "cell_type": "code",
   "execution_count": 25,
   "metadata": {},
   "outputs": [],
   "source": [
    "# train selected properties on all datasets with default hyperparameters\n",
    "def train_default(ds_path: str) -> tuple[float,dict]:\n",
    "    \"\"\"train with default hyperparameters\"\"\"\n",
    "    import main\n",
    "\n",
    "    main.args.use_clearml = True\n",
    "    main.args.workers = 3\n",
    "    main.args.max_cache_size = 100000\n",
    "    main.args.data_options = [ds_path]\n",
    "    mae = main.main(free_cache=True)\n",
    "\n",
    "    # del main\n",
    "    return float(mae), vars(main.args).copy()\n",
    "\n",
    "\n",
    "def clearml_train_logger(\n",
    "    ds_path: str, property: str, train_fn: Callable[[str], float], notes: str = \"\"\n",
    "):\n",
    "    ds_name = Path(ds_path).name\n",
    "    if not is_clearml:\n",
    "        mae = train_fn()\n",
    "        print(ds_name, mae)\n",
    "    else:\n",
    "        # prepare task\n",
    "        from clearml import Task\n",
    "\n",
    "        Task.set_offline(True)\n",
    "\n",
    "        task: Task = Task.init(\n",
    "            project_name=\"rcgcnn\",\n",
    "            task_name=f\"train {property} on {ds_name}\",\n",
    "            auto_connect_frameworks={\n",
    "                \"tensorboard\": True,\n",
    "                \"matplotlib\": True,\n",
    "                \"tensorflow\": False,\n",
    "                \"pytorch\": True,\n",
    "                \"xgboost\": False,\n",
    "                \"scikit\": False,\n",
    "                \"fastai\": False,\n",
    "                \"lightgbm\": False,\n",
    "                \"hydra\": False,\n",
    "                \"detect_repository\": False,\n",
    "                \"tfdefines\": False,\n",
    "                \"joblib\": False,\n",
    "                \"megengine\": False,\n",
    "                \"catboost\": False,\n",
    "            },\n",
    "        )\n",
    "        # gpu info\n",
    "\n",
    "        mae, args_dict  = train_fn(ds_path)\n",
    "        # finish task\n",
    "        compress(ds_path + \"id_prop.csv\", ds_path + \"id_prop.csv.zstd\")\n",
    "        task.upload_artifact(\n",
    "            name=\"id_prop.csv.zstd\", artifact_object=ds_path + \"id_prop.csv.zstd\"\n",
    "        )\n",
    "        # save model file\n",
    "        task.upload_artifact(\n",
    "            name=\"model_best.pth.tar\", artifact_object=\"./model_best.pth.tar\"\n",
    "        )\n",
    "        # save test results\n",
    "        compress(\"./test_results.csv\", \"./test_results.csv.zstd\")\n",
    "        task.upload_artifact(\n",
    "            name=\"test_results.csv.zstd\", artifact_object=\"./test_results.csv.zstd\"\n",
    "        )\n",
    "\n",
    "        ds_prop_mae.setdefault(ds_name, dict())[property] = mae\n",
    "\n",
    "        task.upload_artifact(name=\"general_ds_prop_mae\", artifact_object=ds_prop_mae)\n",
    "        task.upload_artifact(name=\"args\", artifact_object=args_dict)\n",
    "\n",
    "        args_info = {\n",
    "            \"args\": args_dict,\n",
    "        }\n",
    "        train_info = {\n",
    "            \"result_mae\": float(mae),\n",
    "            \"ds_path\": ds_path,\n",
    "            \"ds_name\": ds_name,\n",
    "            \"property\": property,\n",
    "            \"notes\": notes,\n",
    "        }\n",
    "        task.connect(args_info)\n",
    "        task.connect(train_info, name=\"train_info\")\n",
    "\n",
    "        if len(notes) > 0:\n",
    "            # rename task taking notes into account\n",
    "            task.set_name(f\"train {property} on {ds_name} {notes}\")\n",
    "\n",
    "        # general progress plot\n",
    "        logger = task.get_logger()\n",
    "        plot_ds_prop_mae()\n",
    "        logger.report_matplotlib_figure(\n",
    "            title=\"General progress plot\",\n",
    "            series=\"MAE\",\n",
    "            figure=plt,\n",
    "            report_interactive=False,\n",
    "            report_image=True,\n",
    "        )\n",
    "        logger.report_matplotlib_figure(\n",
    "            title=\"General progress plot\",\n",
    "            series=\"MAE\",\n",
    "            figure=plt,\n",
    "        )\n",
    "        plt.close()\n",
    "\n",
    "        task.close()\n",
    "\n",
    "        # upload offline task according to https://clear.ml/docs/latest/docs/guides/set_offline/\n",
    "        # Task.set_offline(False)\n",
    "        # Task.import_offline_session(str(task.get_offline_mode_folder()))\n",
    "\n",
    "\n",
    "def mv_model_files(prop: str):\n",
    "    import shutil as st\n",
    "\n",
    "    try:\n",
    "        st.move(\"checkpoint.pth.tar\", \"./trained/\" + prop + \"_check.pth.tar\")\n",
    "        st.move(\"model_best.pth.tar\", \"./trained/\" + prop + \"_best.pth.tar\")\n",
    "        st.move(\"test_results.csv\", \"./trained/\" + prop + \"_results.csv\")\n",
    "    except:\n",
    "        pass\n",
    "\n",
    "\n",
    "def train_all_datasets(\n",
    "    dataset_vs_train_fields: list[tuple[str, list | dict]],\n",
    "    clearml_train_logger: Callable[[str, Callable[[str], float]], float],\n",
    "    train_fn: Callable[[], float],\n",
    "):\n",
    "    for ds_path, ds_props in dataset_vs_train_fields:\n",
    "        full_df = pd.DataFrame(load_from_json(ds_path + \"props.json\")).transpose()\n",
    "        # print(full_df.describe())\n",
    "        # clear sys argv for argparse\n",
    "        import sys\n",
    "\n",
    "        sys.argv = [ds_path, ds_path]\n",
    "        del sys\n",
    "\n",
    "        import shutil as sh\n",
    "\n",
    "        sh.copy(basedir + \"atom_init.json\", ds_path)\n",
    "\n",
    "        # choose ds prop format:\n",
    "        if type(ds_props) is dict:\n",
    "            for csv in ds_props.keys():\n",
    "                for prop in ds_props[csv]:\n",
    "                    # set dataset - property pair\n",
    "                    df = get_df_for_csv(csv, full_df)\n",
    "                    if prop in df.columns.values:\n",
    "                        set_property_to_ids(df, prop, ds_path + \"id_prop.csv\")\n",
    "                        clearml_train_logger(\n",
    "                            ds_path,\n",
    "                            prop,\n",
    "                            train_fn,\n",
    "                            notes=f\"using part of dataset: {csv}\",\n",
    "                        )\n",
    "                        mv_model_files(prop)\n",
    "                    else:\n",
    "                        print(\"no\", prop, \"in\", ds_path)\n",
    "        elif type(ds_props) is list:\n",
    "            for prop in ds_props:\n",
    "                is_prop_in_ds = False\n",
    "                if prop in full_df.columns.values:\n",
    "                    is_prop_in_ds = True\n",
    "                    # filter out crystals with warnings:\n",
    "                    from pymatgen.core import Structure\n",
    "                    from cgcnn.data import get_all_neighbors\n",
    "\n",
    "                    ill = set()\n",
    "                    with open(ds_path + \"cifs.json\", \"rb\") as f:\n",
    "                        import orjson as json\n",
    "\n",
    "                        cifs = json.loads(f.read())\n",
    "                        for i, row in full_df.iterrows():\n",
    "                            crystal = Structure.from_dict(cifs[i])\n",
    "                            all_nbrs = get_all_neighbors(\n",
    "                                crystal, r=8, include_index=True\n",
    "                            )\n",
    "                            all_nbrs = [\n",
    "                                sorted(nbrs, key=lambda x: x[1]) for nbrs in all_nbrs\n",
    "                            ]\n",
    "                            max_num_nbr = 12\n",
    "                            for nbr in all_nbrs:\n",
    "                                if len(nbr) < max_num_nbr:\n",
    "                                    ill.add(i)\n",
    "                    filtered_df = full_df.drop(list(ill), axis=\"index\")\n",
    "                    filtered_df.to_dict()\n",
    "                    # set dataset - property pair\n",
    "                    set_property_to_ids(filtered_df, prop, ds_path + \"id_prop.csv\")\n",
    "                if is_prop_in_ds:\n",
    "                    clearml_train_logger(ds_path, prop, train_fn)\n",
    "                    mv_model_files(prop)\n",
    "                else:\n",
    "                    print(\"no\", prop, \"in\", ds_path)"
   ]
  },
  {
   "cell_type": "code",
   "execution_count": 26,
   "metadata": {},
   "outputs": [
    {
     "name": "stdout",
     "output_type": "stream",
     "text": [
      "ClearML Task: created new task id=offline-a9f5a9c01db243bfbdb1feca7ad69492\n",
      "ClearML running in offline mode, session stored in /home/nodoteve/.clearml/cache/offline/offline-a9f5a9c01db243bfbdb1feca7ad69492\n",
      "45609\n",
      "Epoch: [0][0/107]\tTime 5.592 (5.592)\tData 5.221 (5.221)\tLoss 1.3279 (1.3279)\tMAE 1.590 (1.590)\n",
      "Epoch: [0][10/107]\tTime 0.232 (1.701)\tData 0.159 (1.585)\tLoss 0.6282 (1.2927)\tMAE 1.110 (1.556)\n",
      "Epoch: [0][20/107]\tTime 0.133 (1.504)\tData 0.063 (1.404)\tLoss 0.3531 (0.8371)\tMAE 0.823 (1.184)\n",
      "Epoch: [0][30/107]\tTime 3.731 (1.569)\tData 3.624 (1.478)\tLoss 0.0977 (0.6354)\tMAE 0.434 (0.995)\n"
     ]
    },
    {
     "ename": "KeyboardInterrupt",
     "evalue": "",
     "output_type": "error",
     "traceback": [
      "\u001b[0;31m---------------------------------------------------------------------------\u001b[0m",
      "\u001b[0;31mKeyboardInterrupt\u001b[0m                         Traceback (most recent call last)",
      "Cell \u001b[0;32mIn[26], line 1\u001b[0m\n\u001b[0;32m----> 1\u001b[0m \u001b[43mtrain_all_datasets\u001b[49m\u001b[43m(\u001b[49m\u001b[43mdataset_vs_train_fields\u001b[49m\u001b[43m,\u001b[49m\u001b[43m \u001b[49m\u001b[43mclearml_train_logger\u001b[49m\u001b[43m,\u001b[49m\u001b[43m \u001b[49m\u001b[43mtrain_default\u001b[49m\u001b[43m)\u001b[49m\n",
      "Cell \u001b[0;32mIn[25], line 150\u001b[0m, in \u001b[0;36mtrain_all_datasets\u001b[0;34m(dataset_vs_train_fields, clearml_train_logger, train_fn)\u001b[0m\n\u001b[1;32m    148\u001b[0m \u001b[38;5;28;01mif\u001b[39;00m prop \u001b[38;5;129;01min\u001b[39;00m df\u001b[38;5;241m.\u001b[39mcolumns\u001b[38;5;241m.\u001b[39mvalues:\n\u001b[1;32m    149\u001b[0m     set_property_to_ids(df, prop, ds_path \u001b[38;5;241m+\u001b[39m \u001b[38;5;124m\"\u001b[39m\u001b[38;5;124mid_prop.csv\u001b[39m\u001b[38;5;124m\"\u001b[39m)\n\u001b[0;32m--> 150\u001b[0m     \u001b[43mclearml_train_logger\u001b[49m\u001b[43m(\u001b[49m\n\u001b[1;32m    151\u001b[0m \u001b[43m        \u001b[49m\u001b[43mds_path\u001b[49m\u001b[43m,\u001b[49m\n\u001b[1;32m    152\u001b[0m \u001b[43m        \u001b[49m\u001b[43mprop\u001b[49m\u001b[43m,\u001b[49m\n\u001b[1;32m    153\u001b[0m \u001b[43m        \u001b[49m\u001b[43mtrain_fn\u001b[49m\u001b[43m,\u001b[49m\n\u001b[1;32m    154\u001b[0m \u001b[43m        \u001b[49m\u001b[43mnotes\u001b[49m\u001b[38;5;241;43m=\u001b[39;49m\u001b[38;5;124;43mf\u001b[39;49m\u001b[38;5;124;43m\"\u001b[39;49m\u001b[38;5;124;43musing part of dataset: \u001b[39;49m\u001b[38;5;132;43;01m{\u001b[39;49;00m\u001b[43mcsv\u001b[49m\u001b[38;5;132;43;01m}\u001b[39;49;00m\u001b[38;5;124;43m\"\u001b[39;49m\u001b[43m,\u001b[49m\n\u001b[1;32m    155\u001b[0m \u001b[43m    \u001b[49m\u001b[43m)\u001b[49m\n\u001b[1;32m    156\u001b[0m     mv_model_files(prop)\n\u001b[1;32m    157\u001b[0m \u001b[38;5;28;01melse\u001b[39;00m:\n",
      "Cell \u001b[0;32mIn[25], line 51\u001b[0m, in \u001b[0;36mclearml_train_logger\u001b[0;34m(ds_path, property, train_fn, notes)\u001b[0m\n\u001b[1;32m     29\u001b[0m task: Task \u001b[38;5;241m=\u001b[39m Task\u001b[38;5;241m.\u001b[39minit(\n\u001b[1;32m     30\u001b[0m     project_name\u001b[38;5;241m=\u001b[39m\u001b[38;5;124m\"\u001b[39m\u001b[38;5;124mrcgcnn\u001b[39m\u001b[38;5;124m\"\u001b[39m,\n\u001b[1;32m     31\u001b[0m     task_name\u001b[38;5;241m=\u001b[39m\u001b[38;5;124mf\u001b[39m\u001b[38;5;124m\"\u001b[39m\u001b[38;5;124mtrain \u001b[39m\u001b[38;5;132;01m{\u001b[39;00m\u001b[38;5;28mproperty\u001b[39m\u001b[38;5;132;01m}\u001b[39;00m\u001b[38;5;124m on \u001b[39m\u001b[38;5;132;01m{\u001b[39;00mds_name\u001b[38;5;132;01m}\u001b[39;00m\u001b[38;5;124m\"\u001b[39m,\n\u001b[0;32m   (...)\u001b[0m\n\u001b[1;32m     47\u001b[0m     },\n\u001b[1;32m     48\u001b[0m )\n\u001b[1;32m     49\u001b[0m \u001b[38;5;66;03m# gpu info\u001b[39;00m\n\u001b[0;32m---> 51\u001b[0m mae, args_dict  \u001b[38;5;241m=\u001b[39m \u001b[43mtrain_fn\u001b[49m\u001b[43m(\u001b[49m\u001b[43mds_path\u001b[49m\u001b[43m)\u001b[49m\n\u001b[1;32m     52\u001b[0m \u001b[38;5;66;03m# finish task\u001b[39;00m\n\u001b[1;32m     53\u001b[0m compress(ds_path \u001b[38;5;241m+\u001b[39m \u001b[38;5;124m\"\u001b[39m\u001b[38;5;124mid_prop.csv\u001b[39m\u001b[38;5;124m\"\u001b[39m, ds_path \u001b[38;5;241m+\u001b[39m \u001b[38;5;124m\"\u001b[39m\u001b[38;5;124mid_prop.csv.zstd\u001b[39m\u001b[38;5;124m\"\u001b[39m)\n",
      "Cell \u001b[0;32mIn[25], line 10\u001b[0m, in \u001b[0;36mtrain_default\u001b[0;34m(ds_path)\u001b[0m\n\u001b[1;32m      8\u001b[0m main\u001b[38;5;241m.\u001b[39margs\u001b[38;5;241m.\u001b[39mmax_cache_size \u001b[38;5;241m=\u001b[39m \u001b[38;5;241m100000\u001b[39m\n\u001b[1;32m      9\u001b[0m main\u001b[38;5;241m.\u001b[39margs\u001b[38;5;241m.\u001b[39mdata_options \u001b[38;5;241m=\u001b[39m [ds_path]\n\u001b[0;32m---> 10\u001b[0m mae \u001b[38;5;241m=\u001b[39m \u001b[43mmain\u001b[49m\u001b[38;5;241;43m.\u001b[39;49m\u001b[43mmain\u001b[49m\u001b[43m(\u001b[49m\u001b[43mfree_cache\u001b[49m\u001b[38;5;241;43m=\u001b[39;49m\u001b[38;5;28;43;01mTrue\u001b[39;49;00m\u001b[43m)\u001b[49m\n\u001b[1;32m     12\u001b[0m \u001b[38;5;66;03m# del main\u001b[39;00m\n\u001b[1;32m     13\u001b[0m \u001b[38;5;28;01mreturn\u001b[39;00m \u001b[38;5;28mfloat\u001b[39m(mae), \u001b[38;5;28mvars\u001b[39m(main\u001b[38;5;241m.\u001b[39margs)\u001b[38;5;241m.\u001b[39mcopy()\n",
      "File \u001b[0;32m~/sync/pa/pa-5/rcgcnn/main.py:196\u001b[0m, in \u001b[0;36mmain\u001b[0;34m(**kwargs)\u001b[0m\n\u001b[1;32m    191\u001b[0m scheduler \u001b[38;5;241m=\u001b[39m MultiStepLR(optimizer, milestones\u001b[38;5;241m=\u001b[39margs\u001b[38;5;241m.\u001b[39mlr_milestones,\n\u001b[1;32m    192\u001b[0m                         gamma\u001b[38;5;241m=\u001b[39m\u001b[38;5;241m0.1\u001b[39m)\n\u001b[1;32m    194\u001b[0m \u001b[38;5;28;01mfor\u001b[39;00m epoch \u001b[38;5;129;01min\u001b[39;00m \u001b[38;5;28mrange\u001b[39m(args\u001b[38;5;241m.\u001b[39mstart_epoch, args\u001b[38;5;241m.\u001b[39mepochs):\n\u001b[1;32m    195\u001b[0m     \u001b[38;5;66;03m# train for one epoch\u001b[39;00m\n\u001b[0;32m--> 196\u001b[0m     \u001b[43mtrain\u001b[49m\u001b[43m(\u001b[49m\u001b[43mtrain_loader\u001b[49m\u001b[43m,\u001b[49m\u001b[43m \u001b[49m\u001b[43mmodel\u001b[49m\u001b[43m,\u001b[49m\u001b[43m \u001b[49m\u001b[43mcriterion\u001b[49m\u001b[43m,\u001b[49m\u001b[43m \u001b[49m\u001b[43moptimizer\u001b[49m\u001b[43m,\u001b[49m\u001b[43m \u001b[49m\u001b[43mepoch\u001b[49m\u001b[43m,\u001b[49m\u001b[43m \u001b[49m\u001b[43mnormalizer\u001b[49m\u001b[43m)\u001b[49m\n\u001b[1;32m    198\u001b[0m     \u001b[38;5;66;03m# evaluate on validation set\u001b[39;00m\n\u001b[1;32m    199\u001b[0m     mae_error \u001b[38;5;241m=\u001b[39m validate(val_loader, model, criterion, epoch,normalizer)\n",
      "File \u001b[0;32m~/sync/pa/pa-5/rcgcnn/main.py:247\u001b[0m, in \u001b[0;36mtrain\u001b[0;34m(train_loader, model, criterion, optimizer, epoch, normalizer)\u001b[0m\n\u001b[1;32m    244\u001b[0m model\u001b[38;5;241m.\u001b[39mtrain()\n\u001b[1;32m    246\u001b[0m end \u001b[38;5;241m=\u001b[39m time\u001b[38;5;241m.\u001b[39mtime()\n\u001b[0;32m--> 247\u001b[0m \u001b[43m\u001b[49m\u001b[38;5;28;43;01mfor\u001b[39;49;00m\u001b[43m \u001b[49m\u001b[43mi\u001b[49m\u001b[43m,\u001b[49m\u001b[43m \u001b[49m\u001b[43m(\u001b[49m\u001b[38;5;28;43minput\u001b[39;49m\u001b[43m,\u001b[49m\u001b[43m \u001b[49m\u001b[43mtarget\u001b[49m\u001b[43m,\u001b[49m\u001b[43m \u001b[49m\u001b[43m_\u001b[49m\u001b[43m)\u001b[49m\u001b[43m \u001b[49m\u001b[38;5;129;43;01min\u001b[39;49;00m\u001b[43m \u001b[49m\u001b[38;5;28;43menumerate\u001b[39;49m\u001b[43m(\u001b[49m\u001b[43mtrain_loader\u001b[49m\u001b[43m)\u001b[49m\u001b[43m:\u001b[49m\n\u001b[1;32m    248\u001b[0m \u001b[43m    \u001b[49m\u001b[38;5;28;43minput\u001b[39;49m\u001b[43m \u001b[49m\u001b[38;5;241;43m=\u001b[39;49m\u001b[43m \u001b[49m\u001b[38;5;28;43mtuple\u001b[39;49m\u001b[43m(\u001b[49m\n\u001b[1;32m    249\u001b[0m \u001b[43m        \u001b[49m\u001b[43mtensor\u001b[49m\u001b[38;5;241;43m.\u001b[39;49m\u001b[43mcopy\u001b[49m\u001b[43m(\u001b[49m\u001b[43m)\u001b[49m\u001b[43m \u001b[49m\u001b[38;5;28;43;01mif\u001b[39;49;00m\u001b[43m \u001b[49m\u001b[38;5;28;43mtype\u001b[39;49m\u001b[43m(\u001b[49m\u001b[43mtensor\u001b[49m\u001b[43m)\u001b[49m\u001b[43m \u001b[49m\u001b[38;5;129;43;01mis\u001b[39;49;00m\u001b[43m \u001b[49m\u001b[38;5;28;43mlist\u001b[39;49m\u001b[43m \u001b[49m\u001b[38;5;28;43;01melse\u001b[39;49;00m\u001b[43m \u001b[49m\u001b[43mtensor\u001b[49m\u001b[38;5;241;43m.\u001b[39;49m\u001b[43mclone\u001b[49m\u001b[43m(\u001b[49m\u001b[43m)\u001b[49m\n\u001b[1;32m    250\u001b[0m \u001b[43m        \u001b[49m\u001b[38;5;28;43;01mfor\u001b[39;49;00m\u001b[43m \u001b[49m\u001b[43mtensor\u001b[49m\u001b[43m \u001b[49m\u001b[38;5;129;43;01min\u001b[39;49;00m\u001b[43m \u001b[49m\u001b[38;5;28;43minput\u001b[39;49m\n\u001b[1;32m    251\u001b[0m \u001b[43m    \u001b[49m\u001b[43m)\u001b[49m\n\u001b[1;32m    252\u001b[0m \u001b[43m    \u001b[49m\u001b[43mtarget\u001b[49m\u001b[43m \u001b[49m\u001b[38;5;241;43m=\u001b[39;49m\u001b[43m \u001b[49m\u001b[43mtarget\u001b[49m\u001b[38;5;241;43m.\u001b[39;49m\u001b[43mclone\u001b[49m\u001b[43m(\u001b[49m\u001b[43m)\u001b[49m\n",
      "File \u001b[0;32m~/apps/pythom/miniconda/envs/cgcnn/lib/python3.11/site-packages/torch/utils/data/dataloader.py:631\u001b[0m, in \u001b[0;36m_BaseDataLoaderIter.__next__\u001b[0;34m(self)\u001b[0m\n\u001b[1;32m    628\u001b[0m \u001b[38;5;28;01mif\u001b[39;00m \u001b[38;5;28mself\u001b[39m\u001b[38;5;241m.\u001b[39m_sampler_iter \u001b[38;5;129;01mis\u001b[39;00m \u001b[38;5;28;01mNone\u001b[39;00m:\n\u001b[1;32m    629\u001b[0m     \u001b[38;5;66;03m# TODO(https://github.com/pytorch/pytorch/issues/76750)\u001b[39;00m\n\u001b[1;32m    630\u001b[0m     \u001b[38;5;28mself\u001b[39m\u001b[38;5;241m.\u001b[39m_reset()  \u001b[38;5;66;03m# type: ignore[call-arg]\u001b[39;00m\n\u001b[0;32m--> 631\u001b[0m data \u001b[38;5;241m=\u001b[39m \u001b[38;5;28;43mself\u001b[39;49m\u001b[38;5;241;43m.\u001b[39;49m\u001b[43m_next_data\u001b[49m\u001b[43m(\u001b[49m\u001b[43m)\u001b[49m\n\u001b[1;32m    632\u001b[0m \u001b[38;5;28mself\u001b[39m\u001b[38;5;241m.\u001b[39m_num_yielded \u001b[38;5;241m+\u001b[39m\u001b[38;5;241m=\u001b[39m \u001b[38;5;241m1\u001b[39m\n\u001b[1;32m    633\u001b[0m \u001b[38;5;28;01mif\u001b[39;00m \u001b[38;5;28mself\u001b[39m\u001b[38;5;241m.\u001b[39m_dataset_kind \u001b[38;5;241m==\u001b[39m _DatasetKind\u001b[38;5;241m.\u001b[39mIterable \u001b[38;5;129;01mand\u001b[39;00m \\\n\u001b[1;32m    634\u001b[0m         \u001b[38;5;28mself\u001b[39m\u001b[38;5;241m.\u001b[39m_IterableDataset_len_called \u001b[38;5;129;01mis\u001b[39;00m \u001b[38;5;129;01mnot\u001b[39;00m \u001b[38;5;28;01mNone\u001b[39;00m \u001b[38;5;129;01mand\u001b[39;00m \\\n\u001b[1;32m    635\u001b[0m         \u001b[38;5;28mself\u001b[39m\u001b[38;5;241m.\u001b[39m_num_yielded \u001b[38;5;241m>\u001b[39m \u001b[38;5;28mself\u001b[39m\u001b[38;5;241m.\u001b[39m_IterableDataset_len_called:\n",
      "File \u001b[0;32m~/apps/pythom/miniconda/envs/cgcnn/lib/python3.11/site-packages/torch/utils/data/dataloader.py:1329\u001b[0m, in \u001b[0;36m_MultiProcessingDataLoaderIter._next_data\u001b[0;34m(self)\u001b[0m\n\u001b[1;32m   1326\u001b[0m     \u001b[38;5;28;01mreturn\u001b[39;00m \u001b[38;5;28mself\u001b[39m\u001b[38;5;241m.\u001b[39m_process_data(data)\n\u001b[1;32m   1328\u001b[0m \u001b[38;5;28;01massert\u001b[39;00m \u001b[38;5;129;01mnot\u001b[39;00m \u001b[38;5;28mself\u001b[39m\u001b[38;5;241m.\u001b[39m_shutdown \u001b[38;5;129;01mand\u001b[39;00m \u001b[38;5;28mself\u001b[39m\u001b[38;5;241m.\u001b[39m_tasks_outstanding \u001b[38;5;241m>\u001b[39m \u001b[38;5;241m0\u001b[39m\n\u001b[0;32m-> 1329\u001b[0m idx, data \u001b[38;5;241m=\u001b[39m \u001b[38;5;28;43mself\u001b[39;49m\u001b[38;5;241;43m.\u001b[39;49m\u001b[43m_get_data\u001b[49m\u001b[43m(\u001b[49m\u001b[43m)\u001b[49m\n\u001b[1;32m   1330\u001b[0m \u001b[38;5;28mself\u001b[39m\u001b[38;5;241m.\u001b[39m_tasks_outstanding \u001b[38;5;241m-\u001b[39m\u001b[38;5;241m=\u001b[39m \u001b[38;5;241m1\u001b[39m\n\u001b[1;32m   1331\u001b[0m \u001b[38;5;28;01mif\u001b[39;00m \u001b[38;5;28mself\u001b[39m\u001b[38;5;241m.\u001b[39m_dataset_kind \u001b[38;5;241m==\u001b[39m _DatasetKind\u001b[38;5;241m.\u001b[39mIterable:\n\u001b[1;32m   1332\u001b[0m     \u001b[38;5;66;03m# Check for _IterableDatasetStopIteration\u001b[39;00m\n",
      "File \u001b[0;32m~/apps/pythom/miniconda/envs/cgcnn/lib/python3.11/site-packages/torch/utils/data/dataloader.py:1285\u001b[0m, in \u001b[0;36m_MultiProcessingDataLoaderIter._get_data\u001b[0;34m(self)\u001b[0m\n\u001b[1;32m   1283\u001b[0m \u001b[38;5;28;01melif\u001b[39;00m \u001b[38;5;28mself\u001b[39m\u001b[38;5;241m.\u001b[39m_pin_memory:\n\u001b[1;32m   1284\u001b[0m     \u001b[38;5;28;01mwhile\u001b[39;00m \u001b[38;5;28mself\u001b[39m\u001b[38;5;241m.\u001b[39m_pin_memory_thread\u001b[38;5;241m.\u001b[39mis_alive():\n\u001b[0;32m-> 1285\u001b[0m         success, data \u001b[38;5;241m=\u001b[39m \u001b[38;5;28;43mself\u001b[39;49m\u001b[38;5;241;43m.\u001b[39;49m\u001b[43m_try_get_data\u001b[49m\u001b[43m(\u001b[49m\u001b[43m)\u001b[49m\n\u001b[1;32m   1286\u001b[0m         \u001b[38;5;28;01mif\u001b[39;00m success:\n\u001b[1;32m   1287\u001b[0m             \u001b[38;5;28;01mreturn\u001b[39;00m data\n",
      "File \u001b[0;32m~/apps/pythom/miniconda/envs/cgcnn/lib/python3.11/site-packages/torch/utils/data/dataloader.py:1133\u001b[0m, in \u001b[0;36m_MultiProcessingDataLoaderIter._try_get_data\u001b[0;34m(self, timeout)\u001b[0m\n\u001b[1;32m   1120\u001b[0m \u001b[38;5;28;01mdef\u001b[39;00m \u001b[38;5;21m_try_get_data\u001b[39m(\u001b[38;5;28mself\u001b[39m, timeout\u001b[38;5;241m=\u001b[39m_utils\u001b[38;5;241m.\u001b[39mMP_STATUS_CHECK_INTERVAL):\n\u001b[1;32m   1121\u001b[0m     \u001b[38;5;66;03m# Tries to fetch data from `self._data_queue` once for a given timeout.\u001b[39;00m\n\u001b[1;32m   1122\u001b[0m     \u001b[38;5;66;03m# This can also be used as inner loop of fetching without timeout, with\u001b[39;00m\n\u001b[0;32m   (...)\u001b[0m\n\u001b[1;32m   1130\u001b[0m     \u001b[38;5;66;03m# Returns a 2-tuple:\u001b[39;00m\n\u001b[1;32m   1131\u001b[0m     \u001b[38;5;66;03m#   (bool: whether successfully get data, any: data if successful else None)\u001b[39;00m\n\u001b[1;32m   1132\u001b[0m     \u001b[38;5;28;01mtry\u001b[39;00m:\n\u001b[0;32m-> 1133\u001b[0m         data \u001b[38;5;241m=\u001b[39m \u001b[38;5;28;43mself\u001b[39;49m\u001b[38;5;241;43m.\u001b[39;49m\u001b[43m_data_queue\u001b[49m\u001b[38;5;241;43m.\u001b[39;49m\u001b[43mget\u001b[49m\u001b[43m(\u001b[49m\u001b[43mtimeout\u001b[49m\u001b[38;5;241;43m=\u001b[39;49m\u001b[43mtimeout\u001b[49m\u001b[43m)\u001b[49m\n\u001b[1;32m   1134\u001b[0m         \u001b[38;5;28;01mreturn\u001b[39;00m (\u001b[38;5;28;01mTrue\u001b[39;00m, data)\n\u001b[1;32m   1135\u001b[0m     \u001b[38;5;28;01mexcept\u001b[39;00m \u001b[38;5;167;01mException\u001b[39;00m \u001b[38;5;28;01mas\u001b[39;00m e:\n\u001b[1;32m   1136\u001b[0m         \u001b[38;5;66;03m# At timeout and error, we manually check whether any worker has\u001b[39;00m\n\u001b[1;32m   1137\u001b[0m         \u001b[38;5;66;03m# failed. Note that this is the only mechanism for Windows to detect\u001b[39;00m\n\u001b[1;32m   1138\u001b[0m         \u001b[38;5;66;03m# worker failures.\u001b[39;00m\n",
      "File \u001b[0;32m~/apps/pythom/miniconda/envs/cgcnn/lib/python3.11/queue.py:180\u001b[0m, in \u001b[0;36mQueue.get\u001b[0;34m(self, block, timeout)\u001b[0m\n\u001b[1;32m    178\u001b[0m         \u001b[38;5;28;01mif\u001b[39;00m remaining \u001b[38;5;241m<\u001b[39m\u001b[38;5;241m=\u001b[39m \u001b[38;5;241m0.0\u001b[39m:\n\u001b[1;32m    179\u001b[0m             \u001b[38;5;28;01mraise\u001b[39;00m Empty\n\u001b[0;32m--> 180\u001b[0m         \u001b[38;5;28;43mself\u001b[39;49m\u001b[38;5;241;43m.\u001b[39;49m\u001b[43mnot_empty\u001b[49m\u001b[38;5;241;43m.\u001b[39;49m\u001b[43mwait\u001b[49m\u001b[43m(\u001b[49m\u001b[43mremaining\u001b[49m\u001b[43m)\u001b[49m\n\u001b[1;32m    181\u001b[0m item \u001b[38;5;241m=\u001b[39m \u001b[38;5;28mself\u001b[39m\u001b[38;5;241m.\u001b[39m_get()\n\u001b[1;32m    182\u001b[0m \u001b[38;5;28mself\u001b[39m\u001b[38;5;241m.\u001b[39mnot_full\u001b[38;5;241m.\u001b[39mnotify()\n",
      "File \u001b[0;32m~/apps/pythom/miniconda/envs/cgcnn/lib/python3.11/threading.py:324\u001b[0m, in \u001b[0;36mCondition.wait\u001b[0;34m(self, timeout)\u001b[0m\n\u001b[1;32m    322\u001b[0m \u001b[38;5;28;01melse\u001b[39;00m:\n\u001b[1;32m    323\u001b[0m     \u001b[38;5;28;01mif\u001b[39;00m timeout \u001b[38;5;241m>\u001b[39m \u001b[38;5;241m0\u001b[39m:\n\u001b[0;32m--> 324\u001b[0m         gotit \u001b[38;5;241m=\u001b[39m \u001b[43mwaiter\u001b[49m\u001b[38;5;241;43m.\u001b[39;49m\u001b[43macquire\u001b[49m\u001b[43m(\u001b[49m\u001b[38;5;28;43;01mTrue\u001b[39;49;00m\u001b[43m,\u001b[49m\u001b[43m \u001b[49m\u001b[43mtimeout\u001b[49m\u001b[43m)\u001b[49m\n\u001b[1;32m    325\u001b[0m     \u001b[38;5;28;01melse\u001b[39;00m:\n\u001b[1;32m    326\u001b[0m         gotit \u001b[38;5;241m=\u001b[39m waiter\u001b[38;5;241m.\u001b[39macquire(\u001b[38;5;28;01mFalse\u001b[39;00m)\n",
      "File \u001b[0;32m~/apps/pythom/miniconda/envs/cgcnn/lib/python3.11/site-packages/clearml/utilities/process/exit_hooks.py:157\u001b[0m, in \u001b[0;36mExitHooks.signal_handler\u001b[0;34m(self, sig, frame)\u001b[0m\n\u001b[1;32m    154\u001b[0m \u001b[38;5;66;03m# if this is a sig term, we wait until __at_exit is called (basically do nothing)\u001b[39;00m\n\u001b[1;32m    155\u001b[0m \u001b[38;5;28;01mif\u001b[39;00m sig \u001b[38;5;241m==\u001b[39m signal\u001b[38;5;241m.\u001b[39mSIGINT:\n\u001b[1;32m    156\u001b[0m     \u001b[38;5;66;03m# return original handler result\u001b[39;00m\n\u001b[0;32m--> 157\u001b[0m     \u001b[38;5;28;01mreturn\u001b[39;00m org_handler \u001b[38;5;28;01mif\u001b[39;00m \u001b[38;5;129;01mnot\u001b[39;00m \u001b[38;5;28mcallable\u001b[39m(org_handler) \u001b[38;5;28;01melse\u001b[39;00m \u001b[43morg_handler\u001b[49m\u001b[43m(\u001b[49m\u001b[43msig\u001b[49m\u001b[43m,\u001b[49m\u001b[43m \u001b[49m\u001b[43mframe\u001b[49m\u001b[43m)\u001b[49m\n\u001b[1;32m    159\u001b[0m \u001b[38;5;28;01mif\u001b[39;00m \u001b[38;5;28mself\u001b[39m\u001b[38;5;241m.\u001b[39m_signal_recursion_protection_flag:\n\u001b[1;32m    160\u001b[0m     \u001b[38;5;66;03m# call original\u001b[39;00m\n\u001b[1;32m    161\u001b[0m     os\u001b[38;5;241m.\u001b[39mkill(os\u001b[38;5;241m.\u001b[39mgetpid(), sig)\n",
      "\u001b[0;31mKeyboardInterrupt\u001b[0m: "
     ]
    }
   ],
   "source": [
    "train_all_datasets(dataset_vs_train_fields, clearml_train_logger, train_default)"
   ]
  }
 ],
 "metadata": {
  "kernelspec": {
   "display_name": "Python 3.10.13 ('base')",
   "language": "python",
   "name": "python3"
  },
  "language_info": {
   "codemirror_mode": {
    "name": "ipython",
    "version": 3
   },
   "file_extension": ".py",
   "mimetype": "text/x-python",
   "name": "python",
   "nbconvert_exporter": "python",
   "pygments_lexer": "ipython3",
   "version": "3.11.5"
  },
  "orig_nbformat": 4,
  "vscode": {
   "interpreter": {
    "hash": "1509f755d693feea69328e7bc671a76db594dddf9693d82a53ea384d1f791343"
   }
  }
 },
 "nbformat": 4,
 "nbformat_minor": 2
}
